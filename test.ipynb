{
 "cells": [
  {
   "cell_type": "code",
   "execution_count": 1,
   "metadata": {
    "pycharm": {
     "name": "#%%\n"
    }
   },
   "outputs": [],
   "source": [
    "from datetime import datetime\n",
    "\n",
    "import numpy as np\n",
    "import pandas as pd\n",
    "import matplotlib.pyplot as plt\n",
    "import seaborn as sns\n",
    "\n",
    "\n",
    "def joined_df():\n",
    "    df = pd.read_csv(\"dataset\\\\train.csv\", parse_dates=['date'])\n",
    "    stores_df = pd.read_csv(\"dataset\\\\stores.csv\").set_index('store_nbr')\n",
    "    return df.join(stores_df, on='store_nbr')\n"
   ]
  },
  {
   "cell_type": "code",
   "execution_count": 2,
   "metadata": {
    "pycharm": {
     "name": "#%%\n"
    }
   },
   "outputs": [
    {
     "name": "stdout",
     "output_type": "stream",
     "text": [
      "<bound method DataFrame.info of               sales\n",
      "time               \n",
      "0       2511.618999\n",
      "1     496092.417944\n",
      "2     361461.231124\n",
      "3     354459.677093\n",
      "4     477350.121229\n",
      "...             ...\n",
      "1683  826373.722022\n",
      "1684  792630.535079\n",
      "1685  865639.677471\n",
      "1686  760922.406081\n",
      "1687  762661.935939\n",
      "\n",
      "[1684 rows x 1 columns]>\n"
     ]
    },
    {
     "data": {
      "text/plain": [
       "''"
      ]
     },
     "execution_count": 2,
     "metadata": {},
     "output_type": "execute_result"
    },
    {
     "data": {
      "text/plain": [
       "<Figure size 2160x1440 with 0 Axes>"
      ]
     },
     "metadata": {},
     "output_type": "display_data"
    }
   ],
   "source": [
    "# - - - Time series setup - - -\n",
    "\n",
    "df = pd.read_csv(\"dataset\\\\train.csv\", parse_dates=['date'])\n",
    "df['time'] = (df['date'] - df['date'].min()).dt.days\n",
    "# data = df.copy()\n",
    "\n",
    "# data = data.drop(['store_nbr'], axis=1).groupby(['family', 'time']).sum(['sales'])\n",
    "\n",
    "sales_per_day = df.copy()[['time', 'sales']]\n",
    "sales_per_day.dropna(inplace=True)\n",
    "sales_per_day = sales_per_day.groupby(['time']).sum(['sales'])\n",
    "print(sales_per_day.info)\n",
    "\n",
    "plt.style.use(\"seaborn-whitegrid\")\n",
    "plt.figure(figsize=(30, 20))\n",
    "\n",
    "\"\"\"\"\"\""
   ]
  },
  {
   "cell_type": "code",
   "execution_count": 3,
   "metadata": {
    "pycharm": {
     "name": "#%%\n"
    }
   },
   "outputs": [
    {
     "ename": "KeyError",
     "evalue": "'time'",
     "output_type": "error",
     "traceback": [
      "\u001B[1;31m---------------------------------------------------------------------------\u001B[0m",
      "\u001B[1;31mKeyError\u001B[0m                                  Traceback (most recent call last)",
      "File \u001B[1;32m~\\AppData\\Local\\Packages\\PythonSoftwareFoundation.Python.3.9_qbz5n2kfra8p0\\LocalCache\\local-packages\\Python39\\site-packages\\pandas\\core\\indexes\\base.py:3621\u001B[0m, in \u001B[0;36mIndex.get_loc\u001B[1;34m(self, key, method, tolerance)\u001B[0m\n\u001B[0;32m   3620\u001B[0m \u001B[38;5;28;01mtry\u001B[39;00m:\n\u001B[1;32m-> 3621\u001B[0m     \u001B[38;5;28;01mreturn\u001B[39;00m \u001B[38;5;28;43mself\u001B[39;49m\u001B[38;5;241;43m.\u001B[39;49m\u001B[43m_engine\u001B[49m\u001B[38;5;241;43m.\u001B[39;49m\u001B[43mget_loc\u001B[49m\u001B[43m(\u001B[49m\u001B[43mcasted_key\u001B[49m\u001B[43m)\u001B[49m\n\u001B[0;32m   3622\u001B[0m \u001B[38;5;28;01mexcept\u001B[39;00m \u001B[38;5;167;01mKeyError\u001B[39;00m \u001B[38;5;28;01mas\u001B[39;00m err:\n",
      "File \u001B[1;32m~\\AppData\\Local\\Packages\\PythonSoftwareFoundation.Python.3.9_qbz5n2kfra8p0\\LocalCache\\local-packages\\Python39\\site-packages\\pandas\\_libs\\index.pyx:136\u001B[0m, in \u001B[0;36mpandas._libs.index.IndexEngine.get_loc\u001B[1;34m()\u001B[0m\n",
      "File \u001B[1;32m~\\AppData\\Local\\Packages\\PythonSoftwareFoundation.Python.3.9_qbz5n2kfra8p0\\LocalCache\\local-packages\\Python39\\site-packages\\pandas\\_libs\\index.pyx:163\u001B[0m, in \u001B[0;36mpandas._libs.index.IndexEngine.get_loc\u001B[1;34m()\u001B[0m\n",
      "File \u001B[1;32mpandas\\_libs\\hashtable_class_helper.pxi:5198\u001B[0m, in \u001B[0;36mpandas._libs.hashtable.PyObjectHashTable.get_item\u001B[1;34m()\u001B[0m\n",
      "File \u001B[1;32mpandas\\_libs\\hashtable_class_helper.pxi:5206\u001B[0m, in \u001B[0;36mpandas._libs.hashtable.PyObjectHashTable.get_item\u001B[1;34m()\u001B[0m\n",
      "\u001B[1;31mKeyError\u001B[0m: 'time'",
      "\nThe above exception was the direct cause of the following exception:\n",
      "\u001B[1;31mKeyError\u001B[0m                                  Traceback (most recent call last)",
      "Input \u001B[1;32mIn [3]\u001B[0m, in \u001B[0;36m<module>\u001B[1;34m\u001B[0m\n\u001B[0;32m      5\u001B[0m \u001B[38;5;124;03m\"\"\"\u001B[39;00m\n\u001B[0;32m      6\u001B[0m \u001B[38;5;124;03mfamilies = df['family'].unique()\u001B[39;00m\n\u001B[0;32m      7\u001B[0m \u001B[38;5;124;03mdata['time'] = data.index.get_level_values('time')\u001B[39;00m\n\u001B[1;32m   (...)\u001B[0m\n\u001B[0;32m     12\u001B[0m \u001B[38;5;124;03m    sns.regplot(data=fam_df, x='date_', y='sales', ax=ax, fit_reg=True, ci=None, label=f'lr: {family}')\u001B[39;00m\n\u001B[0;32m     13\u001B[0m \u001B[38;5;124;03m\"\"\"\u001B[39;00m\n\u001B[0;32m     14\u001B[0m sns\u001B[38;5;241m.\u001B[39mlineplot(data\u001B[38;5;241m=\u001B[39msales_per_day, x\u001B[38;5;241m=\u001B[39m\u001B[38;5;124m\"\u001B[39m\u001B[38;5;124mtime\u001B[39m\u001B[38;5;124m\"\u001B[39m, y\u001B[38;5;241m=\u001B[39m\u001B[38;5;124m\"\u001B[39m\u001B[38;5;124msales\u001B[39m\u001B[38;5;124m\"\u001B[39m, ax\u001B[38;5;241m=\u001B[39max, marker\u001B[38;5;241m=\u001B[39m\u001B[38;5;124m'\u001B[39m\u001B[38;5;124mo\u001B[39m\u001B[38;5;124m'\u001B[39m, linestyle\u001B[38;5;241m=\u001B[39m\u001B[38;5;124m'\u001B[39m\u001B[38;5;124m-\u001B[39m\u001B[38;5;124m'\u001B[39m, label\u001B[38;5;241m=\u001B[39m\u001B[38;5;124m'\u001B[39m\u001B[38;5;124mSales\u001B[39m\u001B[38;5;124m'\u001B[39m)\n\u001B[1;32m---> 15\u001B[0m \u001B[43msns\u001B[49m\u001B[38;5;241;43m.\u001B[39;49m\u001B[43mregplot\u001B[49m\u001B[43m(\u001B[49m\u001B[43mdata\u001B[49m\u001B[38;5;241;43m=\u001B[39;49m\u001B[43msales_per_day\u001B[49m\u001B[43m,\u001B[49m\u001B[43m \u001B[49m\u001B[43mx\u001B[49m\u001B[38;5;241;43m=\u001B[39;49m\u001B[38;5;124;43m'\u001B[39;49m\u001B[38;5;124;43mtime\u001B[39;49m\u001B[38;5;124;43m'\u001B[39;49m\u001B[43m,\u001B[49m\u001B[43m \u001B[49m\u001B[43my\u001B[49m\u001B[38;5;241;43m=\u001B[39;49m\u001B[38;5;124;43m'\u001B[39;49m\u001B[38;5;124;43msales\u001B[39;49m\u001B[38;5;124;43m'\u001B[39;49m\u001B[43m,\u001B[49m\u001B[43m \u001B[49m\u001B[43max\u001B[49m\u001B[38;5;241;43m=\u001B[39;49m\u001B[43max\u001B[49m\u001B[43m,\u001B[49m\u001B[43m \u001B[49m\u001B[43mfit_reg\u001B[49m\u001B[38;5;241;43m=\u001B[39;49m\u001B[38;5;28;43;01mTrue\u001B[39;49;00m\u001B[43m,\u001B[49m\u001B[43m \u001B[49m\u001B[43mci\u001B[49m\u001B[38;5;241;43m=\u001B[39;49m\u001B[38;5;28;43;01mNone\u001B[39;49;00m\u001B[43m,\u001B[49m\u001B[43m \u001B[49m\u001B[43mlabel\u001B[49m\u001B[38;5;241;43m=\u001B[39;49m\u001B[38;5;124;43m'\u001B[39;49m\u001B[38;5;124;43mLinear Reg.\u001B[39;49m\u001B[38;5;124;43m'\u001B[39;49m\u001B[43m)\u001B[49m\n\u001B[0;32m     17\u001B[0m plt\u001B[38;5;241m.\u001B[39mtitle(\u001B[38;5;124m'\u001B[39m\u001B[38;5;124mTime Series\u001B[39m\u001B[38;5;124m'\u001B[39m)\n\u001B[0;32m     18\u001B[0m plt\u001B[38;5;241m.\u001B[39mxlabel(\u001B[38;5;124m'\u001B[39m\u001B[38;5;124mDate\u001B[39m\u001B[38;5;124m'\u001B[39m)\n",
      "File \u001B[1;32m~\\AppData\\Local\\Packages\\PythonSoftwareFoundation.Python.3.9_qbz5n2kfra8p0\\LocalCache\\local-packages\\Python39\\site-packages\\seaborn\\regression.py:763\u001B[0m, in \u001B[0;36mregplot\u001B[1;34m(data, x, y, x_estimator, x_bins, x_ci, scatter, fit_reg, ci, n_boot, units, seed, order, logistic, lowess, robust, logx, x_partial, y_partial, truncate, dropna, x_jitter, y_jitter, label, color, marker, scatter_kws, line_kws, ax)\u001B[0m\n\u001B[0;32m    752\u001B[0m \u001B[38;5;28;01mdef\u001B[39;00m \u001B[38;5;21mregplot\u001B[39m(\n\u001B[0;32m    753\u001B[0m     data\u001B[38;5;241m=\u001B[39m\u001B[38;5;28;01mNone\u001B[39;00m, \u001B[38;5;241m*\u001B[39m, x\u001B[38;5;241m=\u001B[39m\u001B[38;5;28;01mNone\u001B[39;00m, y\u001B[38;5;241m=\u001B[39m\u001B[38;5;28;01mNone\u001B[39;00m,\n\u001B[0;32m    754\u001B[0m     x_estimator\u001B[38;5;241m=\u001B[39m\u001B[38;5;28;01mNone\u001B[39;00m, x_bins\u001B[38;5;241m=\u001B[39m\u001B[38;5;28;01mNone\u001B[39;00m, x_ci\u001B[38;5;241m=\u001B[39m\u001B[38;5;124m\"\u001B[39m\u001B[38;5;124mci\u001B[39m\u001B[38;5;124m\"\u001B[39m,\n\u001B[1;32m   (...)\u001B[0m\n\u001B[0;32m    760\u001B[0m     scatter_kws\u001B[38;5;241m=\u001B[39m\u001B[38;5;28;01mNone\u001B[39;00m, line_kws\u001B[38;5;241m=\u001B[39m\u001B[38;5;28;01mNone\u001B[39;00m, ax\u001B[38;5;241m=\u001B[39m\u001B[38;5;28;01mNone\u001B[39;00m\n\u001B[0;32m    761\u001B[0m ):\n\u001B[1;32m--> 763\u001B[0m     plotter \u001B[38;5;241m=\u001B[39m \u001B[43m_RegressionPlotter\u001B[49m\u001B[43m(\u001B[49m\u001B[43mx\u001B[49m\u001B[43m,\u001B[49m\u001B[43m \u001B[49m\u001B[43my\u001B[49m\u001B[43m,\u001B[49m\u001B[43m \u001B[49m\u001B[43mdata\u001B[49m\u001B[43m,\u001B[49m\u001B[43m \u001B[49m\u001B[43mx_estimator\u001B[49m\u001B[43m,\u001B[49m\u001B[43m \u001B[49m\u001B[43mx_bins\u001B[49m\u001B[43m,\u001B[49m\u001B[43m \u001B[49m\u001B[43mx_ci\u001B[49m\u001B[43m,\u001B[49m\n\u001B[0;32m    764\u001B[0m \u001B[43m                                 \u001B[49m\u001B[43mscatter\u001B[49m\u001B[43m,\u001B[49m\u001B[43m \u001B[49m\u001B[43mfit_reg\u001B[49m\u001B[43m,\u001B[49m\u001B[43m \u001B[49m\u001B[43mci\u001B[49m\u001B[43m,\u001B[49m\u001B[43m \u001B[49m\u001B[43mn_boot\u001B[49m\u001B[43m,\u001B[49m\u001B[43m \u001B[49m\u001B[43munits\u001B[49m\u001B[43m,\u001B[49m\u001B[43m \u001B[49m\u001B[43mseed\u001B[49m\u001B[43m,\u001B[49m\n\u001B[0;32m    765\u001B[0m \u001B[43m                                 \u001B[49m\u001B[43morder\u001B[49m\u001B[43m,\u001B[49m\u001B[43m \u001B[49m\u001B[43mlogistic\u001B[49m\u001B[43m,\u001B[49m\u001B[43m \u001B[49m\u001B[43mlowess\u001B[49m\u001B[43m,\u001B[49m\u001B[43m \u001B[49m\u001B[43mrobust\u001B[49m\u001B[43m,\u001B[49m\u001B[43m \u001B[49m\u001B[43mlogx\u001B[49m\u001B[43m,\u001B[49m\n\u001B[0;32m    766\u001B[0m \u001B[43m                                 \u001B[49m\u001B[43mx_partial\u001B[49m\u001B[43m,\u001B[49m\u001B[43m \u001B[49m\u001B[43my_partial\u001B[49m\u001B[43m,\u001B[49m\u001B[43m \u001B[49m\u001B[43mtruncate\u001B[49m\u001B[43m,\u001B[49m\u001B[43m \u001B[49m\u001B[43mdropna\u001B[49m\u001B[43m,\u001B[49m\n\u001B[0;32m    767\u001B[0m \u001B[43m                                 \u001B[49m\u001B[43mx_jitter\u001B[49m\u001B[43m,\u001B[49m\u001B[43m \u001B[49m\u001B[43my_jitter\u001B[49m\u001B[43m,\u001B[49m\u001B[43m \u001B[49m\u001B[43mcolor\u001B[49m\u001B[43m,\u001B[49m\u001B[43m \u001B[49m\u001B[43mlabel\u001B[49m\u001B[43m)\u001B[49m\n\u001B[0;32m    769\u001B[0m     \u001B[38;5;28;01mif\u001B[39;00m ax \u001B[38;5;129;01mis\u001B[39;00m \u001B[38;5;28;01mNone\u001B[39;00m:\n\u001B[0;32m    770\u001B[0m         ax \u001B[38;5;241m=\u001B[39m plt\u001B[38;5;241m.\u001B[39mgca()\n",
      "File \u001B[1;32m~\\AppData\\Local\\Packages\\PythonSoftwareFoundation.Python.3.9_qbz5n2kfra8p0\\LocalCache\\local-packages\\Python39\\site-packages\\seaborn\\regression.py:107\u001B[0m, in \u001B[0;36m_RegressionPlotter.__init__\u001B[1;34m(self, x, y, data, x_estimator, x_bins, x_ci, scatter, fit_reg, ci, n_boot, units, seed, order, logistic, lowess, robust, logx, x_partial, y_partial, truncate, dropna, x_jitter, y_jitter, color, label)\u001B[0m\n\u001B[0;32m    104\u001B[0m     \u001B[38;5;28;01mraise\u001B[39;00m \u001B[38;5;167;01mValueError\u001B[39;00m(\u001B[38;5;124m\"\u001B[39m\u001B[38;5;124mMutually exclusive regression options.\u001B[39m\u001B[38;5;124m\"\u001B[39m)\n\u001B[0;32m    106\u001B[0m \u001B[38;5;66;03m# Extract the data vals from the arguments or passed dataframe\u001B[39;00m\n\u001B[1;32m--> 107\u001B[0m \u001B[38;5;28;43mself\u001B[39;49m\u001B[38;5;241;43m.\u001B[39;49m\u001B[43mestablish_variables\u001B[49m\u001B[43m(\u001B[49m\u001B[43mdata\u001B[49m\u001B[43m,\u001B[49m\u001B[43m \u001B[49m\u001B[43mx\u001B[49m\u001B[38;5;241;43m=\u001B[39;49m\u001B[43mx\u001B[49m\u001B[43m,\u001B[49m\u001B[43m \u001B[49m\u001B[43my\u001B[49m\u001B[38;5;241;43m=\u001B[39;49m\u001B[43my\u001B[49m\u001B[43m,\u001B[49m\u001B[43m \u001B[49m\u001B[43munits\u001B[49m\u001B[38;5;241;43m=\u001B[39;49m\u001B[43munits\u001B[49m\u001B[43m,\u001B[49m\n\u001B[0;32m    108\u001B[0m \u001B[43m                         \u001B[49m\u001B[43mx_partial\u001B[49m\u001B[38;5;241;43m=\u001B[39;49m\u001B[43mx_partial\u001B[49m\u001B[43m,\u001B[49m\u001B[43m \u001B[49m\u001B[43my_partial\u001B[49m\u001B[38;5;241;43m=\u001B[39;49m\u001B[43my_partial\u001B[49m\u001B[43m)\u001B[49m\n\u001B[0;32m    110\u001B[0m \u001B[38;5;66;03m# Drop null observations\u001B[39;00m\n\u001B[0;32m    111\u001B[0m \u001B[38;5;28;01mif\u001B[39;00m dropna:\n",
      "File \u001B[1;32m~\\AppData\\Local\\Packages\\PythonSoftwareFoundation.Python.3.9_qbz5n2kfra8p0\\LocalCache\\local-packages\\Python39\\site-packages\\seaborn\\regression.py:44\u001B[0m, in \u001B[0;36m_LinearPlotter.establish_variables\u001B[1;34m(self, data, **kws)\u001B[0m\n\u001B[0;32m     42\u001B[0m \u001B[38;5;28;01mfor\u001B[39;00m var, val \u001B[38;5;129;01min\u001B[39;00m kws\u001B[38;5;241m.\u001B[39mitems():\n\u001B[0;32m     43\u001B[0m     \u001B[38;5;28;01mif\u001B[39;00m \u001B[38;5;28misinstance\u001B[39m(val, \u001B[38;5;28mstr\u001B[39m):\n\u001B[1;32m---> 44\u001B[0m         vector \u001B[38;5;241m=\u001B[39m \u001B[43mdata\u001B[49m\u001B[43m[\u001B[49m\u001B[43mval\u001B[49m\u001B[43m]\u001B[49m\n\u001B[0;32m     45\u001B[0m     \u001B[38;5;28;01melif\u001B[39;00m \u001B[38;5;28misinstance\u001B[39m(val, \u001B[38;5;28mlist\u001B[39m):\n\u001B[0;32m     46\u001B[0m         vector \u001B[38;5;241m=\u001B[39m np\u001B[38;5;241m.\u001B[39masarray(val)\n",
      "File \u001B[1;32m~\\AppData\\Local\\Packages\\PythonSoftwareFoundation.Python.3.9_qbz5n2kfra8p0\\LocalCache\\local-packages\\Python39\\site-packages\\pandas\\core\\frame.py:3505\u001B[0m, in \u001B[0;36mDataFrame.__getitem__\u001B[1;34m(self, key)\u001B[0m\n\u001B[0;32m   3503\u001B[0m \u001B[38;5;28;01mif\u001B[39;00m \u001B[38;5;28mself\u001B[39m\u001B[38;5;241m.\u001B[39mcolumns\u001B[38;5;241m.\u001B[39mnlevels \u001B[38;5;241m>\u001B[39m \u001B[38;5;241m1\u001B[39m:\n\u001B[0;32m   3504\u001B[0m     \u001B[38;5;28;01mreturn\u001B[39;00m \u001B[38;5;28mself\u001B[39m\u001B[38;5;241m.\u001B[39m_getitem_multilevel(key)\n\u001B[1;32m-> 3505\u001B[0m indexer \u001B[38;5;241m=\u001B[39m \u001B[38;5;28;43mself\u001B[39;49m\u001B[38;5;241;43m.\u001B[39;49m\u001B[43mcolumns\u001B[49m\u001B[38;5;241;43m.\u001B[39;49m\u001B[43mget_loc\u001B[49m\u001B[43m(\u001B[49m\u001B[43mkey\u001B[49m\u001B[43m)\u001B[49m\n\u001B[0;32m   3506\u001B[0m \u001B[38;5;28;01mif\u001B[39;00m is_integer(indexer):\n\u001B[0;32m   3507\u001B[0m     indexer \u001B[38;5;241m=\u001B[39m [indexer]\n",
      "File \u001B[1;32m~\\AppData\\Local\\Packages\\PythonSoftwareFoundation.Python.3.9_qbz5n2kfra8p0\\LocalCache\\local-packages\\Python39\\site-packages\\pandas\\core\\indexes\\base.py:3623\u001B[0m, in \u001B[0;36mIndex.get_loc\u001B[1;34m(self, key, method, tolerance)\u001B[0m\n\u001B[0;32m   3621\u001B[0m     \u001B[38;5;28;01mreturn\u001B[39;00m \u001B[38;5;28mself\u001B[39m\u001B[38;5;241m.\u001B[39m_engine\u001B[38;5;241m.\u001B[39mget_loc(casted_key)\n\u001B[0;32m   3622\u001B[0m \u001B[38;5;28;01mexcept\u001B[39;00m \u001B[38;5;167;01mKeyError\u001B[39;00m \u001B[38;5;28;01mas\u001B[39;00m err:\n\u001B[1;32m-> 3623\u001B[0m     \u001B[38;5;28;01mraise\u001B[39;00m \u001B[38;5;167;01mKeyError\u001B[39;00m(key) \u001B[38;5;28;01mfrom\u001B[39;00m \u001B[38;5;21;01merr\u001B[39;00m\n\u001B[0;32m   3624\u001B[0m \u001B[38;5;28;01mexcept\u001B[39;00m \u001B[38;5;167;01mTypeError\u001B[39;00m:\n\u001B[0;32m   3625\u001B[0m     \u001B[38;5;66;03m# If we have a listlike key, _check_indexing_error will raise\u001B[39;00m\n\u001B[0;32m   3626\u001B[0m     \u001B[38;5;66;03m#  InvalidIndexError. Otherwise we fall through and re-raise\u001B[39;00m\n\u001B[0;32m   3627\u001B[0m     \u001B[38;5;66;03m#  the TypeError.\u001B[39;00m\n\u001B[0;32m   3628\u001B[0m     \u001B[38;5;28mself\u001B[39m\u001B[38;5;241m.\u001B[39m_check_indexing_error(key)\n",
      "\u001B[1;31mKeyError\u001B[0m: 'time'"
     ]
    },
    {
     "data": {
      "image/png": "[encoded data removed]",
      "text/plain": [
       "<Figure size 432x288 with 1 Axes>"
      ]
     },
     "metadata": {},
     "output_type": "display_data"
    }
   ],
   "source": [
    "# - - - Plot series and linear regression - - -\n",
    "\n",
    "fig, ax = plt.subplots()\n",
    "\n",
    "\"\"\"\n",
    "families = df['family'].unique()\n",
    "data['time'] = data.index.get_level_values('time')\n",
    "for family in families[0:4]:\n",
    "    fam_df = data.iloc[data.index.get_level_values('family') == family]\n",
    "    fam_df['date_'] = fam_df.index.get_level_values('time')\n",
    "    sns.lineplot(data=fam_df, x=\"date_\", y=\"sales\", ax=ax, marker='o', linestyle='-', label=family)\n",
    "    sns.regplot(data=fam_df, x='date_', y='sales', ax=ax, fit_reg=True, ci=None, label=f'lr: {family}')\n",
    "\"\"\"\n",
    "sns.lineplot(data=sales_per_day, x=\"time\", y=\"sales\", ax=ax, marker='o', linestyle='-', label='Sales')\n",
    "sns.regplot(data=sales_per_day, x='time', y='sales', ax=ax, fit_reg=True, ci=None, label='Linear Reg.')\n",
    "\n",
    "plt.title('Time Series')\n",
    "plt.xlabel('Date')\n",
    "plt.ylabel('Sales')\n",
    "\n",
    "ax.legend()\n",
    "plt.show()\n",
    "\"\"\"\"\"\""
   ]
  },
  {
   "cell_type": "code",
   "execution_count": null,
   "metadata": {
    "pycharm": {
     "name": "#%%\n"
    }
   },
   "outputs": [],
   "source": [
    "\n",
    "# - - - TREND (ma penso si a fatto male) - - -\n",
    "\"\"\"\"\"\"\n",
    "# Moving Average per mese, per settimana\n",
    "moving_average_monthly = sales_per_day.copy()\n",
    "moving_average_monthly['sales'] = moving_average_monthly['sales'].rolling(\n",
    "    window=28,        # 4 weeks window\n",
    "    center=True,      # puts the average at the center of the window\n",
    "    min_periods=14,   # TIP: choose about half the window size\n",
    ").mean()              # compute the mean (could also do median, std, min, max, ...)\n",
    "\n",
    "moving_average_weekly = sales_per_day.copy()\n",
    "moving_average_weekly['sales'] = moving_average_weekly['sales'].rolling(\n",
    "    window=7,        # 4 weeks window\n",
    "    center=True,      # puts the average at the center of the window\n",
    "    min_periods=4,   # TIP: choose about half the window size\n",
    ").mean()              # compute the mean (could also do median, std, min, max, ...)\n",
    "\n",
    "print(sales_per_day.info)\n",
    "\n",
    "fig, ax = plt.subplots()\n",
    "\n",
    "sns.lineplot(x='time', y='sales', data=sales_per_day, ax=ax)\n",
    "sns.lineplot(x='time', y='sales', data=moving_average_weekly, ax=ax)\n",
    "sns.lineplot(x='time', y='sales', data=moving_average_monthly, ax=ax)\n",
    "\n",
    "ax.legend()\n",
    "plt.show()\n",
    "\"\"\" \"\"\""
   ]
  },
  {
   "cell_type": "code",
   "execution_count": null,
   "metadata": {
    "pycharm": {
     "name": "#%%\n"
    }
   },
   "outputs": [],
   "source": [
    "# - - - Linear Regression - - -\n",
    "\n",
    "from sklearn.linear_model import LinearRegression\n",
    "from statsmodels.tsa.deterministic import DeterministicProcess\n",
    "\n",
    "fig, ax = plt.subplots()\n",
    "sns.lineplot(x='time', y='sales', data=sales_per_day, ax=ax)\n",
    "\n",
    "for i in range(5):\n",
    "    dp = DeterministicProcess(\n",
    "        index=sales_per_day.index,      # dates from the training data\n",
    "        constant=True,       # dummy feature for the bias (y_intercept)\n",
    "        order=i,             # the time dummy (trend)\n",
    "        drop=True,           # drop terms if necessary to avoid collinearity\n",
    "    )\n",
    "    # `in_sample` creates features for the dates given in the `index` argument\n",
    "    X = dp.in_sample()\n",
    "    y = sales_per_day['sales']                                   # TODO grouping with 'family'?\n",
    "\n",
    "    model = LinearRegression(fit_intercept=False)\n",
    "    model.fit(X, y)\n",
    "    sales_pred = sales_per_day.copy()\n",
    "    sales_pred['sales'] = model.predict(X)\n",
    "\n",
    "    label = f'Trend: {i}' if i > 0 else 'Mean'\n",
    "    sns.lineplot(x='time', y='sales', data=sales_pred, ax=ax, label=label)\n",
    "ax.legend()\n",
    "plt.show()\n",
    "\"\"\"\"\"\""
   ]
  },
  {
   "cell_type": "code",
   "execution_count": null,
   "metadata": {
    "pycharm": {
     "name": "#%%\n"
    }
   },
   "outputs": [],
   "source": [
    "# +*+*+ SEASONALITY +*+*+\n",
    "from statsmodels.tsa.seasonal import seasonal_decompose\n",
    "\n",
    "# may prefer interpolation instead of dropping nulls\n",
    "# df = df.interpolate(method='bfill')\n",
    "for i in [10, 20, 30, 40, 52, 60, 80, 100]:\n",
    "    decompose_result_mult = seasonal_decompose(sales_per_day,  # eventually add ['sales']\n",
    "        model=\"multiplicative\", period=i)           # o additive, TODO modificare period?\n",
    "\n",
    "    trend = decompose_result_mult.trend\n",
    "    seasonal = decompose_result_mult.seasonal\n",
    "    residual = decompose_result_mult.resid\n",
    "    decompose_result_mult.plot()\n",
    "    plt.show()"
   ]
  },
  {
   "cell_type": "code",
   "execution_count": null,
   "metadata": {
    "pycharm": {
     "name": "#%%\n"
    }
   },
   "outputs": [],
   "source": [
    "# ======================================================================\n",
    "# =#=#= A*R*I*M*A =#=#=\n",
    "# ======================================================================\n",
    "\n",
    "\n",
    "# **> ADF test <**\n",
    "from statsmodels.tsa.stattools import adfuller\n",
    "from statsmodels.tsa.arima.model import ARIMA as arima\n",
    "\n",
    "time_series = sales_per_day.copy()['sales']\n",
    "\n",
    "def perform_adf_test(series):\n",
    "    # Return val\n",
    "    not_stationary = True\n",
    "    # Perform ADF test\n",
    "    result = adfuller(series)\n",
    "    adf_statistic, p_value, _, _, critical_values, _ = result\n",
    "\n",
    "    print()\n",
    "    # Print ADF test results\n",
    "    print(f'ADF Statistic: {adf_statistic}')\n",
    "    print(f'p-value: {p_value}')\n",
    "    print('Critical Values:')\n",
    "    for key, value in critical_values.items():\n",
    "        print(f'   {key}: {value}')\n",
    "\n",
    "    # Check the p-value\n",
    "    if p_value <= 0.05:\n",
    "        print(\"Reject the null hypothesis. The data is stationary.\")\n",
    "        not_stationary = False\n",
    "    else:\n",
    "        print(\"Fail to reject the null hypothesis. The data is non-stationary.\")\n",
    "    return not_stationary\n",
    "\n",
    "\n",
    "d = 0\n",
    "not_stationary = perform_adf_test(time_series)\n",
    "print('\\n')\n",
    "while not_stationary:\n",
    "    d += 1\n",
    "    time_series = time_series.diff().dropna()\n",
    "    not_stationary = perform_adf_test(time_series)\n",
    "    print('\\n')\n",
    "\n",
    "print(f\"Value of parameter d: {d}\")"
   ]
  },
  {
   "cell_type": "code",
   "execution_count": null,
   "metadata": {
    "pycharm": {
     "name": "#%%\n"
    }
   },
   "outputs": [],
   "source": [
    "# **> Autocorrelazione (k,q) <**\n",
    "from statsmodels.graphics.tsaplots import plot_pacf, plot_acf\n",
    "\n",
    "\n",
    "fig, ((ax1, ax2), (ax3, ax4)) = plt.subplots(2, 2, figsize=(11, 6))\n",
    "plt.title('Lag Plot')\n",
    "pd.plotting.lag_plot(time_series, lag=1, ax=ax1)\n",
    "pd.plotting.lag_plot(time_series, lag=2, ax=ax2)\n",
    "pd.plotting.lag_plot(time_series, lag=3, ax=ax3)\n",
    "pd.plotting.lag_plot(time_series, lag=4, ax=ax4)\n",
    "plt.show()\n",
    "\n",
    "df1 = sales_per_day['sales'].copy()\n",
    "\n",
    "fig, ((ax1, ax2), (ax3, ax4)) = plt.subplots(2, 2, figsize=(18, 6))\n",
    "plt.title('Lag Plot NON DIFF')\n",
    "pd.plotting.lag_plot(df1, lag=10, ax=ax1)\n",
    "pd.plotting.lag_plot(df1, lag=20, ax=ax2)\n",
    "pd.plotting.lag_plot(df1, lag=30, ax=ax3)\n",
    "pd.plotting.lag_plot(df1, lag=40, ax=ax4)\n",
    "plt.show()\n",
    "\n",
    "plot_acf(time_series)\n",
    "plt.title('Autocorrelation Plot')\n",
    "plt.show()"
   ]
  },
  {
   "cell_type": "code",
   "execution_count": null,
   "metadata": {
    "pycharm": {
     "name": "#%%\n"
    }
   },
   "outputs": [],
   "source": [
    "# Plot partial autocorrelation #todo set lag corretto\n",
    "\n",
    "# for LAG in [5, 10, 20, 30, 40, 50]:\n",
    "LAG=20\n",
    "plot_pacf(time_series, lags=LAG)\n",
    "plt.title(f'Partial Autocorrelation Plot - LAG: {LAG}')\n",
    "plt.show()"
   ]
  },
  {
   "cell_type": "code",
   "execution_count": null,
   "metadata": {
    "pycharm": {
     "name": "#%%\n"
    }
   },
   "outputs": [],
   "source": [
    "# - - - Test statistici per vari set di parametri di ARIMA - - -\n",
    "def arima_fit(time_series, p=1, d=1, q=1):\n",
    "    # Fit ARIMA model\n",
    "    arima_model = arima(time_series, order=(p, d, q))  # Example order, adjust as needed\n",
    "    arima_results = arima_model.fit()\n",
    "\n",
    "    print(arima_results.summary())\n",
    "\n",
    "for d in range(2):\n",
    "    for p in range(3):\n",
    "        for q in range(3):\n",
    "            arima_fit(df1, p, d, q)"
   ]
  },
  {
   "cell_type": "code",
   "execution_count": null,
   "metadata": {
    "pycharm": {
     "name": "#%%\n"
    }
   },
   "outputs": [],
   "source": [
    "# - - - AUTO_ARIMA - - -\n",
    "from pmdarima import auto_arima\n",
    "\n",
    "auto_fit = auto_arima(df1, start_p=0, start_q=0,\n",
    "                          max_p=2, max_q=2,\n",
    "                          m=1,                     #TODO m is used for seasonality, m=1 means no seasonality (cover this later)\n",
    "                          seasonal=False,          # We do not want seasonality here\n",
    "                          d=None,                  # The order of first-differencing. If None (by default), automatically be selected\n",
    "                          trace=True,\n",
    "                          #error_action='ignore',   # we don't want to know if an order does not work\n",
    "                          suppress_warnings=True,  # we don't want convergence warnings\n",
    "                          stepwise=True)           # set to stepwise\n",
    "\n",
    "auto_fit.summary()\n",
    "\n",
    "\n"
   ]
  },
  {
   "cell_type": "code",
   "execution_count": null,
   "metadata": {},
   "outputs": [],
   "source": []
  },
  {
   "cell_type": "code",
   "execution_count": null,
   "metadata": {},
   "outputs": [],
   "source": []
  },
  {
   "cell_type": "code",
   "execution_count": null,
   "metadata": {},
   "outputs": [],
   "source": []
  },
  {
   "cell_type": "code",
   "execution_count": null,
   "metadata": {},
   "outputs": [],
   "source": []
  }
 ],
 "metadata": {
  "kernelspec": {
   "display_name": "Python 3 (ipykernel)",
   "language": "python",
   "name": "python3"
  },
  "language_info": {
   "codemirror_mode": {
    "name": "ipython",
    "version": 3
   },
   "file_extension": ".py",
   "mimetype": "text/x-python",
   "name": "python",
   "nbconvert_exporter": "python",
   "pygments_lexer": "ipython3",
   "version": "3.9.13"
  }
 },
 "nbformat": 4,
 "nbformat_minor": 1
}